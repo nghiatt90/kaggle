{
 "cells": [
  {
   "cell_type": "code",
   "execution_count": 1,
   "metadata": {
    "collapsed": true
   },
   "outputs": [],
   "source": [
    "import json\n",
    "import os\n",
    "import re\n",
    "\n",
    "from matplotlib import pyplot as plt\n",
    "import numpy as np\n",
    "import pandas as pd\n",
    "import seaborn as sns\n",
    "\n",
    "%matplotlib inline"
   ]
  },
  {
   "cell_type": "code",
   "execution_count": 2,
   "metadata": {
    "collapsed": true
   },
   "outputs": [],
   "source": [
    "DATA_ROOT = './data'\n",
    "PGN = os.path.join(DATA_ROOT, 'data.pgn')\n",
    "STOCKFISH = os.path.join(DATA_ROOT, 'stockfish.csv')"
   ]
  },
  {
   "cell_type": "markdown",
   "metadata": {},
   "source": [
    "# Get to know the data"
   ]
  },
  {
   "cell_type": "markdown",
   "metadata": {},
   "source": [
    "### First, let's take a look at the PGN file"
   ]
  },
  {
   "cell_type": "code",
   "execution_count": 3,
   "metadata": {},
   "outputs": [
    {
     "name": "stdout",
     "output_type": "stream",
     "text": [
      "[Event \"1\"]\n",
      "\n",
      "[Site \"kaggle.com\"]\n",
      "\n",
      "[Date \"??\"]\n",
      "\n",
      "[Round \"??\"]\n",
      "\n",
      "[White \"??\"]\n",
      "\n",
      "[Black \"??\"]\n",
      "\n",
      "[Result \"1/2-1/2\"]\n",
      "\n",
      "[WhiteElo \"2354\"]\n",
      "\n",
      "[BlackElo \"2411\"]\n",
      "\n",
      "\n",
      "\n",
      "1. Nf3 Nf6 2. c4 c5 3. b3 g6 4. Bb2 Bg7 5. e3 O-O 6. Be2 b6 7. O-O Bb7 8.\n",
      "\n",
      "Nc3 Nc6 9. Qc2 Rc8 10. Rac1 d5 11. Nxd5 Nxd5 12. Bxg7 Nf4 13. exf4 Kxg7 14.\n",
      "\n",
      "Qc3+ Kg8 15. Rcd1 Qd6 16. d4 cxd4 17. Nxd4 Qxf4 18. Bf3 Qf6 19. Nb5 Qxc3\n",
      "\n",
      "1/2-1/2\n",
      "\n",
      "\n",
      "\n",
      "[Event \"2\"]\n",
      "\n",
      "[Site \"kaggle.com\"]\n",
      "\n",
      "[Date \"??\"]\n",
      "\n",
      "[Round \"??\"]\n",
      "\n",
      "[White \"??\"]\n",
      "\n",
      "[Black \"??\"]\n",
      "\n",
      "[Result \"1/2-1/2\"]\n",
      "\n",
      "[WhiteElo \"2523\"]\n",
      "\n",
      "[BlackElo \"2460\"]\n",
      "\n",
      "\n",
      "\n",
      "1. e4 e5 2. Nf3 Nf6 3. d4 Nxe4 4. Nxe5 d6 5. Nf3 d5 6. Bd3 Nd6 7. O-O\n",
      "\n",
      "1/2-1/2\n",
      "\n",
      "\n",
      "\n",
      "[Event \"3\"]\n",
      "\n",
      "[Site \"kaggle.com\"]\n",
      "\n",
      "[Date \"??\"]\n",
      "\n",
      "[Round \"??\"]\n",
      "\n",
      "[White \"??\"]\n",
      "\n",
      "[Black \"??\"]\n",
      "\n",
      "[Result \"0-1\"]\n",
      "\n",
      "[WhiteElo \"1915\"]\n",
      "\n",
      "[BlackElo \"1999\"]\n",
      "\n",
      "\n",
      "\n",
      "1. e4 d5 2. exd5 Nf6 3. d4 Nxd5 4. Nf3 g6 5. Be2 Bg7 6. c4 Nb6 7. Nc3 O-O\n",
      "\n",
      "8. O-O Nc6 9. Be3 Bg4 10. d5 Bxf3 11. Bxf3 Ne5 12. Bxb6 Nxf3+ 13. Qxf3 axb6\n",
      "\n",
      "14. a3 Qd7 15. Rad1 Qf5 16. Qxf5 gxf5 17. Rd3 Rfd8 18. Rfd1 Kf8 19. R1d2\n",
      "\n",
      "Rd7 20. f4 Rad8 21. Kf2 e6 22. b3 Bxc3 23. Rxc3 c6 24. Ke3 exd5 25. cxd5\n",
      "\n",
      "Rxd5 26. Rxd5 Rxd5 27. Kf3 Ke7 28. h3 h5 29. Kg3 Rd4 30. Kf3 h4 31. Ke3 Rd6\n",
      "\n",
      "32. Kf3 Rg6 33. Kf2 Kd6 34. Rd3+ Kc5 35. Rd7 Rg3 36. b4+ Kb5 37. a4+ Kxa4\n",
      "\n",
      "38. Rxb7 b5 39. Rc7 Rc3 40. Rxf7 Kxb4 41. Rxf5 c5 42. Re5 Ra3 43. f5 Ra7\n",
      "\n",
      "44. Ke3 c4 45. f6 c3 46. Kd3 Rd7+ 47. Kc2 Rd2+ 48. Kc1 Rf2 49. Re4+ Kb3 50.\n",
      "\n",
      "Re1 Rxf6 51. Kd1 b4 52. Re4 c2+ 53. Kd2 Rd6+ 0-1\n",
      "\n",
      "\n",
      "\n",
      "[Event \"4\"]\n",
      "\n",
      "[Site \"kaggle.com\"]\n",
      "\n",
      "[Date \"??\"]\n",
      "\n",
      "[Round \"??\"]\n",
      "\n",
      "[White \"??\"]\n",
      "\n",
      "[Black \"??\"]\n",
      "\n",
      "[Result \"1-0\"]\n",
      "\n",
      "[WhiteElo \"2446\"]\n",
      "\n",
      "[BlackElo \"2191\"]\n",
      "\n",
      "\n",
      "\n",
      "1. c4 Nf6 2. Nc3 d6 3. d4 e5 4. Nf3 Nbd7 5. Bg5 Be7 6. e3 c6 7. Qc2 O-O 8.\n",
      "\n",
      "Bd3 h6 9. h4 b5 10. dxe5 dxe5 11. Bf5 b4 12. Ne2 Qa5 13. b3 Re8 14. Ng3 Kf8\n",
      "\n",
      "15. Rd1 Qc7 16. Bxd7 Bxd7 17. Bxf6 Bxf6 18. Qh7 Bg4 19. Nf5 Bxf5 20. Qxf5\n",
      "\n",
      "Rad8 21. Nd2 Qd7 22. Qxd7 Rxd7 23. Ne4 Rxd1+ 24. Kxd1 h5 25. f3 Be7 26. g4\n",
      "\n",
      "hxg4 27. fxg4 f6 28. h5 Kf7 29. Ke2 g6 30. hxg6+ Kxg6 31. Ng3 Kg5 32. Kf3\n",
      "\n",
      "Kg6 33. Nf5 Bf8 34. Ke4 Bc5 35. Rh6+ Kg5 36. Rh7 Kxg4 37. Rg7+ Kh3 38. Rg3+\n",
      "\n",
      "Kh2 39. Rg6 1-0\n",
      "\n",
      "\n",
      "\n",
      "[Event \"5\"]\n",
      "\n",
      "[Site \"kaggle.com\"]\n",
      "\n",
      "[Date \"??\"]\n",
      "\n",
      "[Round \"??\"]\n",
      "\n",
      "[White \"??\"]\n",
      "\n",
      "[Black \"??\"]\n",
      "\n",
      "[Result \"1-0\"]\n",
      "\n",
      "[WhiteElo \"2168\"]\n",
      "\n",
      "[BlackElo \"2075\"]\n",
      "\n",
      "\n",
      "\n",
      "1. e4 c5 2. Nf3 d6 3. b4 Nf6 4. bxc5 Nxe4 5. cxd6 Qb6 6. d4 Bg4 7. Bd3 Nxd6\n",
      "\n",
      "8. O-O Nc6 9. Be3 Nb4 10. Be2 Qc7 11. c4 Nc6 12. d5 Bxf3 13. gxf3 Ne5 14.\n",
      "\n",
      "c5 Nf5 15. Qa4+ Kd8 16. Bf4 g5 17. d6 Qc6 18. Qa5+ b6 19. cxb6 axb6 20.\n",
      "\n",
      "Qxe5 Bg7 21. dxe7+ Nxe7 22. Qxg7 Rg8 23. Qd4+ Ke8 24. Be3 Rd8 25. Qxb6 1-0\n",
      "\n",
      "\n",
      "\n",
      "[Event \"6\"]\n",
      "\n",
      "[Site \"kaggle.com\"]\n",
      "\n",
      "[Date \"??\"]\n",
      "\n",
      "[Round \"??\"]\n",
      "\n",
      "[White \"??\"]\n",
      "\n",
      "[Black \"??\"]\n",
      "\n",
      "[Result \"1/2-1/2\"]\n",
      "\n",
      "[WhiteElo \"2437\"]\n",
      "\n",
      "[BlackElo \"2254\"]\n",
      "\n",
      "\n",
      "\n",
      "1. Nf3 d5 2. d4 Nf6 3. c4 e6 4. Nc3 Be7 5. Bg5 h6 6. Bh4 O-O 7. e3 Ne4 8.\n",
      "\n",
      "Bxe7 Qxe7 9. Qc2 Nxc3 10. Qxc3 dxc4 11. Bxc4 b6 12. O-O Bb7 13. Be2 c5 14.\n",
      "\n",
      "dxc5 Rc8 15. b4 bxc5 16. bxc5 Nd7 17. Rac1 Nxc5 18. Qa3 Kf8 19. Ne5 Qg5 20.\n",
      "\n",
      "Bf3 Bxf3 21. Nxf3 Qe7 22. Ne5 Ne4 23. Qb2 Nd6 24. h3 Kg8 25. Rfd1 Qf8 26.\n",
      "\n",
      "Rxc8 Rxc8 27. Qb4 Nc4 28. Qc3 Nxe5 29. Qxe5 Qa3 1/2-1/2\n",
      "\n",
      "\n",
      "\n",
      "[Event \"7\"]\n",
      "\n",
      "[Site \"kaggle.com\"]\n",
      "\n",
      "[Date \"??\"]\n",
      "\n"
     ]
    }
   ],
   "source": [
    "with open(PGN) as f:\n",
    "    for i in range(100):\n",
    "        print(next(f))"
   ]
  },
  {
   "cell_type": "markdown",
   "metadata": {},
   "source": [
    "Very well structured text data. We need a function to parse it into a DataFrame for easier processing."
   ]
  },
  {
   "cell_type": "code",
   "execution_count": 4,
   "metadata": {
    "collapsed": true
   },
   "outputs": [],
   "source": [
    "def pgn2dataframe(file_obj):\n",
    "    \"\"\"Read a PGN file and return a `pandas.DataFrame` containing all data.\"\"\"\n",
    "    \n",
    "    # Store all match data as a list of dictionary\n",
    "    json_objs = []\n",
    "    entry = {}\n",
    "    # Since move sequences span multiple lines, we should\n",
    "    # store all lines and join them at appropriate time\n",
    "    move_seq = []\n",
    "    # Regex pattern for metadata lines\n",
    "    pattern = re.compile(r'\\[([A-Za-z]+) \"(.*)\"\\]')\n",
    "    \n",
    "    # Loop through each line in the file, building the list of match data\n",
    "    for row in file_obj:\n",
    "        row_ = row.strip()\n",
    "        m = pattern.match(row_)\n",
    "        if m:\n",
    "            # Metadata line\n",
    "            entry[m.group(1)] = m.group(2)\n",
    "        else:\n",
    "            if not row_:\n",
    "                # Empty line: skip\n",
    "                continue\n",
    "            for result in '0-1', '1-0', '1/2-1/2':\n",
    "                if row_.endswith(result):\n",
    "                    # Last row of move sequence.\n",
    "                    # Remove the result at the end\n",
    "                    t = row_[:-len(result)].strip()\n",
    "                    if t:\n",
    "                        move_seq.append(t)\n",
    "                    entry['Moves'] = ' '.join(move_seq)\n",
    "                    # Here we already have a complete record of 1 match\n",
    "                    # Put the record to our list then reset the temporary\n",
    "                    # object to record the next match\n",
    "                    json_objs.append(entry)\n",
    "                    entry = {}\n",
    "                    move_seq = []\n",
    "                    break\n",
    "            else:\n",
    "                    # Move sequence line\n",
    "                    move_seq.append(row_)\n",
    "\n",
    "    return pd.DataFrame(json_objs)"
   ]
  },
  {
   "cell_type": "code",
   "execution_count": 5,
   "metadata": {},
   "outputs": [
    {
     "name": "stdout",
     "output_type": "stream",
     "text": [
      "<class 'pandas.core.frame.DataFrame'>\n",
      "RangeIndex: 50000 entries, 0 to 49999\n",
      "Data columns (total 10 columns):\n",
      "Black       50000 non-null object\n",
      "BlackElo    25000 non-null object\n",
      "Date        50000 non-null object\n",
      "Event       50000 non-null object\n",
      "Moves       50000 non-null object\n",
      "Result      50000 non-null object\n",
      "Round       50000 non-null object\n",
      "Site        50000 non-null object\n",
      "White       50000 non-null object\n",
      "WhiteElo    25000 non-null object\n",
      "dtypes: object(10)\n",
      "memory usage: 3.8+ MB\n"
     ]
    }
   ],
   "source": [
    "# Parse pgn data to json\n",
    "# Might take a few seconds\n",
    "with open(PGN) as f:\n",
    "    all_matches = pgn2dataframe(f)\n",
    "\n",
    "all_matches.info()"
   ]
  },
  {
   "cell_type": "markdown",
   "metadata": {},
   "source": [
    "So far so good.\n",
    "The only columns with null are `\"BlackElo\"` and `\"WhiteElo\"`, which are the ones we have to predict."
   ]
  },
  {
   "cell_type": "code",
   "execution_count": 6,
   "metadata": {},
   "outputs": [
    {
     "data": {
      "text/html": [
       "<div>\n",
       "<style scoped>\n",
       "    .dataframe tbody tr th:only-of-type {\n",
       "        vertical-align: middle;\n",
       "    }\n",
       "\n",
       "    .dataframe tbody tr th {\n",
       "        vertical-align: top;\n",
       "    }\n",
       "\n",
       "    .dataframe thead th {\n",
       "        text-align: right;\n",
       "    }\n",
       "</style>\n",
       "<table border=\"1\" class=\"dataframe\">\n",
       "  <thead>\n",
       "    <tr style=\"text-align: right;\">\n",
       "      <th></th>\n",
       "      <th>Black</th>\n",
       "      <th>BlackElo</th>\n",
       "      <th>Date</th>\n",
       "      <th>Event</th>\n",
       "      <th>Moves</th>\n",
       "      <th>Result</th>\n",
       "      <th>Round</th>\n",
       "      <th>Site</th>\n",
       "      <th>White</th>\n",
       "      <th>WhiteElo</th>\n",
       "    </tr>\n",
       "  </thead>\n",
       "  <tbody>\n",
       "    <tr>\n",
       "      <th>0</th>\n",
       "      <td>??</td>\n",
       "      <td>2411</td>\n",
       "      <td>??</td>\n",
       "      <td>1</td>\n",
       "      <td>1. Nf3 Nf6 2. c4 c5 3. b3 g6 4. Bb2 Bg7 5. e3 ...</td>\n",
       "      <td>1/2-1/2</td>\n",
       "      <td>??</td>\n",
       "      <td>kaggle.com</td>\n",
       "      <td>??</td>\n",
       "      <td>2354</td>\n",
       "    </tr>\n",
       "    <tr>\n",
       "      <th>1</th>\n",
       "      <td>??</td>\n",
       "      <td>2460</td>\n",
       "      <td>??</td>\n",
       "      <td>2</td>\n",
       "      <td>1. e4 e5 2. Nf3 Nf6 3. d4 Nxe4 4. Nxe5 d6 5. N...</td>\n",
       "      <td>1/2-1/2</td>\n",
       "      <td>??</td>\n",
       "      <td>kaggle.com</td>\n",
       "      <td>??</td>\n",
       "      <td>2523</td>\n",
       "    </tr>\n",
       "    <tr>\n",
       "      <th>2</th>\n",
       "      <td>??</td>\n",
       "      <td>1999</td>\n",
       "      <td>??</td>\n",
       "      <td>3</td>\n",
       "      <td>1. e4 d5 2. exd5 Nf6 3. d4 Nxd5 4. Nf3 g6 5. B...</td>\n",
       "      <td>0-1</td>\n",
       "      <td>??</td>\n",
       "      <td>kaggle.com</td>\n",
       "      <td>??</td>\n",
       "      <td>1915</td>\n",
       "    </tr>\n",
       "    <tr>\n",
       "      <th>3</th>\n",
       "      <td>??</td>\n",
       "      <td>2191</td>\n",
       "      <td>??</td>\n",
       "      <td>4</td>\n",
       "      <td>1. c4 Nf6 2. Nc3 d6 3. d4 e5 4. Nf3 Nbd7 5. Bg...</td>\n",
       "      <td>1-0</td>\n",
       "      <td>??</td>\n",
       "      <td>kaggle.com</td>\n",
       "      <td>??</td>\n",
       "      <td>2446</td>\n",
       "    </tr>\n",
       "    <tr>\n",
       "      <th>4</th>\n",
       "      <td>??</td>\n",
       "      <td>2075</td>\n",
       "      <td>??</td>\n",
       "      <td>5</td>\n",
       "      <td>1. e4 c5 2. Nf3 d6 3. b4 Nf6 4. bxc5 Nxe4 5. c...</td>\n",
       "      <td>1-0</td>\n",
       "      <td>??</td>\n",
       "      <td>kaggle.com</td>\n",
       "      <td>??</td>\n",
       "      <td>2168</td>\n",
       "    </tr>\n",
       "  </tbody>\n",
       "</table>\n",
       "</div>"
      ],
      "text/plain": [
       "  Black BlackElo Date Event  \\\n",
       "0    ??     2411   ??     1   \n",
       "1    ??     2460   ??     2   \n",
       "2    ??     1999   ??     3   \n",
       "3    ??     2191   ??     4   \n",
       "4    ??     2075   ??     5   \n",
       "\n",
       "                                               Moves   Result Round  \\\n",
       "0  1. Nf3 Nf6 2. c4 c5 3. b3 g6 4. Bb2 Bg7 5. e3 ...  1/2-1/2    ??   \n",
       "1  1. e4 e5 2. Nf3 Nf6 3. d4 Nxe4 4. Nxe5 d6 5. N...  1/2-1/2    ??   \n",
       "2  1. e4 d5 2. exd5 Nf6 3. d4 Nxd5 4. Nf3 g6 5. B...      0-1    ??   \n",
       "3  1. c4 Nf6 2. Nc3 d6 3. d4 e5 4. Nf3 Nbd7 5. Bg...      1-0    ??   \n",
       "4  1. e4 c5 2. Nf3 d6 3. b4 Nf6 4. bxc5 Nxe4 5. c...      1-0    ??   \n",
       "\n",
       "         Site White WhiteElo  \n",
       "0  kaggle.com    ??     2354  \n",
       "1  kaggle.com    ??     2523  \n",
       "2  kaggle.com    ??     1915  \n",
       "3  kaggle.com    ??     2446  \n",
       "4  kaggle.com    ??     2168  "
      ]
     },
     "execution_count": 6,
     "metadata": {},
     "output_type": "execute_result"
    }
   ],
   "source": [
    "all_matches.head()"
   ]
  },
  {
   "cell_type": "markdown",
   "metadata": {},
   "source": [
    "Let's see if we can drop those `\"??\"` columns"
   ]
  },
  {
   "cell_type": "code",
   "execution_count": 7,
   "metadata": {},
   "outputs": [
    {
     "name": "stdout",
     "output_type": "stream",
     "text": [
      "??    50000\n",
      "Name: Black, dtype: int64\n",
      "??    50000\n",
      "Name: Date, dtype: int64\n",
      "??    50000\n",
      "Name: Round, dtype: int64\n",
      "kaggle.com    50000\n",
      "Name: Site, dtype: int64\n",
      "??    50000\n",
      "Name: White, dtype: int64\n"
     ]
    }
   ],
   "source": [
    "for col in 'Black', 'Date', 'Round', 'Site', 'White':\n",
    "    print(all_matches[col].value_counts())"
   ]
  },
  {
   "cell_type": "markdown",
   "metadata": {},
   "source": [
    "OK, we don't need those columns. "
   ]
  },
  {
   "cell_type": "code",
   "execution_count": 8,
   "metadata": {
    "collapsed": true
   },
   "outputs": [],
   "source": [
    "all_matches.drop(columns=['Black', 'Date', 'Round', 'Site', 'White'], inplace=True)"
   ]
  },
  {
   "cell_type": "markdown",
   "metadata": {},
   "source": [
    "We can also use the `\"Event\"` column as index column. Will come in handy later."
   ]
  },
  {
   "cell_type": "code",
   "execution_count": 9,
   "metadata": {},
   "outputs": [
    {
     "name": "stdout",
     "output_type": "stream",
     "text": [
      "<class 'pandas.core.frame.DataFrame'>\n",
      "Int64Index: 50000 entries, 1 to 50000\n",
      "Data columns (total 4 columns):\n",
      "BlackElo    25000 non-null object\n",
      "Moves       50000 non-null object\n",
      "Result      50000 non-null object\n",
      "WhiteElo    25000 non-null object\n",
      "dtypes: object(4)\n",
      "memory usage: 1.9+ MB\n"
     ]
    }
   ],
   "source": [
    "all_matches['Event'] = all_matches['Event'].astype(np.int64)\n",
    "all_matches.set_index('Event', inplace=True)\n",
    "all_matches.info()"
   ]
  },
  {
   "cell_type": "markdown",
   "metadata": {},
   "source": [
    "### Now for the Stockfish file\n",
    "\n",
    "It's already in CSV format. Convenient!"
   ]
  },
  {
   "cell_type": "code",
   "execution_count": 10,
   "metadata": {},
   "outputs": [
    {
     "name": "stdout",
     "output_type": "stream",
     "text": [
      "<class 'pandas.core.frame.DataFrame'>\n",
      "RangeIndex: 50000 entries, 0 to 49999\n",
      "Data columns (total 2 columns):\n",
      "Event         50000 non-null int64\n",
      "MoveScores    50000 non-null object\n",
      "dtypes: int64(1), object(1)\n",
      "memory usage: 781.3+ KB\n"
     ]
    }
   ],
   "source": [
    "move_scores = pd.read_csv(STOCKFISH)\n",
    "move_scores.info()"
   ]
  },
  {
   "cell_type": "code",
   "execution_count": 11,
   "metadata": {},
   "outputs": [
    {
     "data": {
      "text/html": [
       "<div>\n",
       "<style scoped>\n",
       "    .dataframe tbody tr th:only-of-type {\n",
       "        vertical-align: middle;\n",
       "    }\n",
       "\n",
       "    .dataframe tbody tr th {\n",
       "        vertical-align: top;\n",
       "    }\n",
       "\n",
       "    .dataframe thead th {\n",
       "        text-align: right;\n",
       "    }\n",
       "</style>\n",
       "<table border=\"1\" class=\"dataframe\">\n",
       "  <thead>\n",
       "    <tr style=\"text-align: right;\">\n",
       "      <th></th>\n",
       "      <th>Event</th>\n",
       "      <th>MoveScores</th>\n",
       "    </tr>\n",
       "  </thead>\n",
       "  <tbody>\n",
       "    <tr>\n",
       "      <th>0</th>\n",
       "      <td>1</td>\n",
       "      <td>18 17 12 8 -5 12 3 -2 22 21 20 13 8 21 11 3 -6...</td>\n",
       "    </tr>\n",
       "    <tr>\n",
       "      <th>1</th>\n",
       "      <td>2</td>\n",
       "      <td>26 44 26 18 14 34 36 31 37 35 42 52 55</td>\n",
       "    </tr>\n",
       "    <tr>\n",
       "      <th>2</th>\n",
       "      <td>3</td>\n",
       "      <td>26 51 68 57 65 77 48 93 61 63 63 58 53 46 69 2...</td>\n",
       "    </tr>\n",
       "    <tr>\n",
       "      <th>3</th>\n",
       "      <td>4</td>\n",
       "      <td>2 21 5 53 35 45 37 54 10 22 8 48 30 17 13 35 -...</td>\n",
       "    </tr>\n",
       "    <tr>\n",
       "      <th>4</th>\n",
       "      <td>5</td>\n",
       "      <td>26 64 35 53 18 20 18 20 10 49 60 95 91 82 83 9...</td>\n",
       "    </tr>\n",
       "  </tbody>\n",
       "</table>\n",
       "</div>"
      ],
      "text/plain": [
       "   Event                                         MoveScores\n",
       "0      1  18 17 12 8 -5 12 3 -2 22 21 20 13 8 21 11 3 -6...\n",
       "1      2             26 44 26 18 14 34 36 31 37 35 42 52 55\n",
       "2      3  26 51 68 57 65 77 48 93 61 63 63 58 53 46 69 2...\n",
       "3      4  2 21 5 53 35 45 37 54 10 22 8 48 30 17 13 35 -...\n",
       "4      5  26 64 35 53 18 20 18 20 10 49 60 95 91 82 83 9..."
      ]
     },
     "execution_count": 11,
     "metadata": {},
     "output_type": "execute_result"
    }
   ],
   "source": [
    "move_scores.head()"
   ]
  },
  {
   "cell_type": "markdown",
   "metadata": {},
   "source": [
    "We can join the 2 data frames into 1 here.\n",
    "Note that it won't work if we don't set `\"Event\"` to be the index column in both data frames."
   ]
  },
  {
   "cell_type": "code",
   "execution_count": 12,
   "metadata": {},
   "outputs": [
    {
     "name": "stdout",
     "output_type": "stream",
     "text": [
      "<class 'pandas.core.frame.DataFrame'>\n",
      "Int64Index: 50000 entries, 1 to 50000\n",
      "Data columns (total 5 columns):\n",
      "BlackElo      25000 non-null object\n",
      "Moves         50000 non-null object\n",
      "Result        50000 non-null object\n",
      "WhiteElo      25000 non-null object\n",
      "MoveScores    50000 non-null object\n",
      "dtypes: object(5)\n",
      "memory usage: 3.5+ MB\n"
     ]
    }
   ],
   "source": [
    "all_matches = all_matches.join(move_scores.set_index('Event'))\n",
    "all_matches.info()"
   ]
  },
  {
   "cell_type": "code",
   "execution_count": 13,
   "metadata": {},
   "outputs": [
    {
     "data": {
      "text/html": [
       "<div>\n",
       "<style scoped>\n",
       "    .dataframe tbody tr th:only-of-type {\n",
       "        vertical-align: middle;\n",
       "    }\n",
       "\n",
       "    .dataframe tbody tr th {\n",
       "        vertical-align: top;\n",
       "    }\n",
       "\n",
       "    .dataframe thead th {\n",
       "        text-align: right;\n",
       "    }\n",
       "</style>\n",
       "<table border=\"1\" class=\"dataframe\">\n",
       "  <thead>\n",
       "    <tr style=\"text-align: right;\">\n",
       "      <th></th>\n",
       "      <th>BlackElo</th>\n",
       "      <th>Moves</th>\n",
       "      <th>Result</th>\n",
       "      <th>WhiteElo</th>\n",
       "      <th>MoveScores</th>\n",
       "    </tr>\n",
       "    <tr>\n",
       "      <th>Event</th>\n",
       "      <th></th>\n",
       "      <th></th>\n",
       "      <th></th>\n",
       "      <th></th>\n",
       "      <th></th>\n",
       "    </tr>\n",
       "  </thead>\n",
       "  <tbody>\n",
       "    <tr>\n",
       "      <th>1</th>\n",
       "      <td>2411</td>\n",
       "      <td>1. Nf3 Nf6 2. c4 c5 3. b3 g6 4. Bb2 Bg7 5. e3 ...</td>\n",
       "      <td>1/2-1/2</td>\n",
       "      <td>2354</td>\n",
       "      <td>18 17 12 8 -5 12 3 -2 22 21 20 13 8 21 11 3 -6...</td>\n",
       "    </tr>\n",
       "    <tr>\n",
       "      <th>2</th>\n",
       "      <td>2460</td>\n",
       "      <td>1. e4 e5 2. Nf3 Nf6 3. d4 Nxe4 4. Nxe5 d6 5. N...</td>\n",
       "      <td>1/2-1/2</td>\n",
       "      <td>2523</td>\n",
       "      <td>26 44 26 18 14 34 36 31 37 35 42 52 55</td>\n",
       "    </tr>\n",
       "    <tr>\n",
       "      <th>3</th>\n",
       "      <td>1999</td>\n",
       "      <td>1. e4 d5 2. exd5 Nf6 3. d4 Nxd5 4. Nf3 g6 5. B...</td>\n",
       "      <td>0-1</td>\n",
       "      <td>1915</td>\n",
       "      <td>26 51 68 57 65 77 48 93 61 63 63 58 53 46 69 2...</td>\n",
       "    </tr>\n",
       "    <tr>\n",
       "      <th>4</th>\n",
       "      <td>2191</td>\n",
       "      <td>1. c4 Nf6 2. Nc3 d6 3. d4 e5 4. Nf3 Nbd7 5. Bg...</td>\n",
       "      <td>1-0</td>\n",
       "      <td>2446</td>\n",
       "      <td>2 21 5 53 35 45 37 54 10 22 8 48 30 17 13 35 -...</td>\n",
       "    </tr>\n",
       "    <tr>\n",
       "      <th>5</th>\n",
       "      <td>2075</td>\n",
       "      <td>1. e4 c5 2. Nf3 d6 3. b4 Nf6 4. bxc5 Nxe4 5. c...</td>\n",
       "      <td>1-0</td>\n",
       "      <td>2168</td>\n",
       "      <td>26 64 35 53 18 20 18 20 10 49 60 95 91 82 83 9...</td>\n",
       "    </tr>\n",
       "  </tbody>\n",
       "</table>\n",
       "</div>"
      ],
      "text/plain": [
       "      BlackElo                                              Moves   Result  \\\n",
       "Event                                                                        \n",
       "1         2411  1. Nf3 Nf6 2. c4 c5 3. b3 g6 4. Bb2 Bg7 5. e3 ...  1/2-1/2   \n",
       "2         2460  1. e4 e5 2. Nf3 Nf6 3. d4 Nxe4 4. Nxe5 d6 5. N...  1/2-1/2   \n",
       "3         1999  1. e4 d5 2. exd5 Nf6 3. d4 Nxd5 4. Nf3 g6 5. B...      0-1   \n",
       "4         2191  1. c4 Nf6 2. Nc3 d6 3. d4 e5 4. Nf3 Nbd7 5. Bg...      1-0   \n",
       "5         2075  1. e4 c5 2. Nf3 d6 3. b4 Nf6 4. bxc5 Nxe4 5. c...      1-0   \n",
       "\n",
       "      WhiteElo                                         MoveScores  \n",
       "Event                                                              \n",
       "1         2354  18 17 12 8 -5 12 3 -2 22 21 20 13 8 21 11 3 -6...  \n",
       "2         2523             26 44 26 18 14 34 36 31 37 35 42 52 55  \n",
       "3         1915  26 51 68 57 65 77 48 93 61 63 63 58 53 46 69 2...  \n",
       "4         2446  2 21 5 53 35 45 37 54 10 22 8 48 30 17 13 35 -...  \n",
       "5         2168  26 64 35 53 18 20 18 20 10 49 60 95 91 82 83 9...  "
      ]
     },
     "execution_count": 13,
     "metadata": {},
     "output_type": "execute_result"
    }
   ],
   "source": [
    "all_matches.head()"
   ]
  },
  {
   "cell_type": "markdown",
   "metadata": {},
   "source": [
    "Now we don't need `move_scores` anymore "
   ]
  },
  {
   "cell_type": "code",
   "execution_count": 14,
   "metadata": {
    "collapsed": true
   },
   "outputs": [],
   "source": [
    "del move_scores"
   ]
  },
  {
   "cell_type": "code",
   "execution_count": 15,
   "metadata": {
    "collapsed": true
   },
   "outputs": [],
   "source": [
    "all_matches['WhiteElo'] = pd.to_numeric(all_matches['WhiteElo'])\n",
    "all_matches['BlackElo'] = pd.to_numeric(all_matches['BlackElo'])"
   ]
  },
  {
   "cell_type": "markdown",
   "metadata": {},
   "source": [
    "# Feature engineer & Visualization"
   ]
  },
  {
   "cell_type": "markdown",
   "metadata": {},
   "source": [
    "@todo: I choose not to make use of the `\"Moves\"` column and remove it completely.\n",
    "You can try to make use of it, for example by look up the first few moves to know the name of the opening pattern."
   ]
  },
  {
   "cell_type": "code",
   "execution_count": 16,
   "metadata": {
    "collapsed": true
   },
   "outputs": [],
   "source": [
    "all_matches.drop('Moves', axis=1, inplace=True)"
   ]
  },
  {
   "cell_type": "markdown",
   "metadata": {},
   "source": [
    "Let's make a new column `\"WhitePoint\"` to replace `\"Result\"`.\n",
    "We don't need black point since we know that `black point + white point = 1`."
   ]
  },
  {
   "cell_type": "markdown",
   "metadata": {},
   "source": [
    "@todo: It might be better to treat `\"Result\"` as categorical data as there are only 3 possible values."
   ]
  },
  {
   "cell_type": "code",
   "execution_count": 17,
   "metadata": {},
   "outputs": [
    {
     "data": {
      "text/html": [
       "<div>\n",
       "<style scoped>\n",
       "    .dataframe tbody tr th:only-of-type {\n",
       "        vertical-align: middle;\n",
       "    }\n",
       "\n",
       "    .dataframe tbody tr th {\n",
       "        vertical-align: top;\n",
       "    }\n",
       "\n",
       "    .dataframe thead th {\n",
       "        text-align: right;\n",
       "    }\n",
       "</style>\n",
       "<table border=\"1\" class=\"dataframe\">\n",
       "  <thead>\n",
       "    <tr style=\"text-align: right;\">\n",
       "      <th></th>\n",
       "      <th>BlackElo</th>\n",
       "      <th>WhiteElo</th>\n",
       "      <th>MoveScores</th>\n",
       "      <th>WhitePoint</th>\n",
       "    </tr>\n",
       "    <tr>\n",
       "      <th>Event</th>\n",
       "      <th></th>\n",
       "      <th></th>\n",
       "      <th></th>\n",
       "      <th></th>\n",
       "    </tr>\n",
       "  </thead>\n",
       "  <tbody>\n",
       "    <tr>\n",
       "      <th>1</th>\n",
       "      <td>2411.0</td>\n",
       "      <td>2354.0</td>\n",
       "      <td>18 17 12 8 -5 12 3 -2 22 21 20 13 8 21 11 3 -6...</td>\n",
       "      <td>0.5</td>\n",
       "    </tr>\n",
       "    <tr>\n",
       "      <th>2</th>\n",
       "      <td>2460.0</td>\n",
       "      <td>2523.0</td>\n",
       "      <td>26 44 26 18 14 34 36 31 37 35 42 52 55</td>\n",
       "      <td>0.5</td>\n",
       "    </tr>\n",
       "    <tr>\n",
       "      <th>3</th>\n",
       "      <td>1999.0</td>\n",
       "      <td>1915.0</td>\n",
       "      <td>26 51 68 57 65 77 48 93 61 63 63 58 53 46 69 2...</td>\n",
       "      <td>0.0</td>\n",
       "    </tr>\n",
       "    <tr>\n",
       "      <th>4</th>\n",
       "      <td>2191.0</td>\n",
       "      <td>2446.0</td>\n",
       "      <td>2 21 5 53 35 45 37 54 10 22 8 48 30 17 13 35 -...</td>\n",
       "      <td>1.0</td>\n",
       "    </tr>\n",
       "    <tr>\n",
       "      <th>5</th>\n",
       "      <td>2075.0</td>\n",
       "      <td>2168.0</td>\n",
       "      <td>26 64 35 53 18 20 18 20 10 49 60 95 91 82 83 9...</td>\n",
       "      <td>1.0</td>\n",
       "    </tr>\n",
       "  </tbody>\n",
       "</table>\n",
       "</div>"
      ],
      "text/plain": [
       "       BlackElo  WhiteElo                                         MoveScores  \\\n",
       "Event                                                                          \n",
       "1        2411.0    2354.0  18 17 12 8 -5 12 3 -2 22 21 20 13 8 21 11 3 -6...   \n",
       "2        2460.0    2523.0             26 44 26 18 14 34 36 31 37 35 42 52 55   \n",
       "3        1999.0    1915.0  26 51 68 57 65 77 48 93 61 63 63 58 53 46 69 2...   \n",
       "4        2191.0    2446.0  2 21 5 53 35 45 37 54 10 22 8 48 30 17 13 35 -...   \n",
       "5        2075.0    2168.0  26 64 35 53 18 20 18 20 10 49 60 95 91 82 83 9...   \n",
       "\n",
       "       WhitePoint  \n",
       "Event              \n",
       "1             0.5  \n",
       "2             0.5  \n",
       "3             0.0  \n",
       "4             1.0  \n",
       "5             1.0  "
      ]
     },
     "execution_count": 17,
     "metadata": {},
     "output_type": "execute_result"
    }
   ],
   "source": [
    "all_matches['WhitePoint'] = all_matches['Result'].apply(lambda x: eval(x[:len(x)//2]))\n",
    "all_matches.drop(columns=['Result'], inplace=True)\n",
    "all_matches.head()"
   ]
  },
  {
   "cell_type": "code",
   "execution_count": 18,
   "metadata": {},
   "outputs": [
    {
     "data": {
      "text/plain": [
       "<matplotlib.axes._subplots.AxesSubplot at 0x7f442377d358>"
      ]
     },
     "execution_count": 18,
     "metadata": {},
     "output_type": "execute_result"
    },
    {
     "data": {
      "image/png": "[encoded data removed]",
      "text/plain": [
       "<matplotlib.figure.Figure at 0x7f44237eab38>"
      ]
     },
     "metadata": {},
     "output_type": "display_data"
    }
   ],
   "source": [
    "all_matches['WhitePoint'].value_counts().plot.pie(autopct='%1.1f%%', startangle=90)"
   ]
  },
  {
   "cell_type": "markdown",
   "metadata": {},
   "source": [
    "White wins 38.6% to Black's 30.3%. Let's look at the distribution of black and white's elo rating."
   ]
  },
  {
   "cell_type": "code",
   "execution_count": 19,
   "metadata": {},
   "outputs": [
    {
     "data": {
      "text/plain": [
       "<matplotlib.axes._subplots.AxesSubplot at 0x7f442373ed30>"
      ]
     },
     "execution_count": 19,
     "metadata": {},
     "output_type": "execute_result"
    },
    {
     "data": {
      "image/png": "[encoded data removed]",
      "text/plain": [
       "<matplotlib.figure.Figure at 0x7f44237a0a20>"
      ]
     },
     "metadata": {},
     "output_type": "display_data"
    }
   ],
   "source": [
    "fig, axes = plt.subplots(1, 2, figsize=(15,8))\n",
    "all_matches[all_matches['WhiteElo'].notnull()]['WhiteElo'].plot.hist(ax=axes[0], bins=20, title='WhiteElo')\n",
    "all_matches[all_matches['BlackElo'].notnull()]['BlackElo'].plot.hist(ax=axes[1], bins=20, title='BlackElo')"
   ]
  },
  {
   "cell_type": "markdown",
   "metadata": {},
   "source": [
    "The training set is unbalanced toward high levels players (rating over 2000).\n",
    "This might cause some overfitting later."
   ]
  },
  {
   "cell_type": "markdown",
   "metadata": {},
   "source": [
    "Let's change the `\"MoveScores\"` column from strings to list of strings, and look at the length of the matches."
   ]
  },
  {
   "cell_type": "code",
   "execution_count": 20,
   "metadata": {
    "collapsed": true
   },
   "outputs": [],
   "source": [
    "all_matches['MoveScores'] = all_matches['MoveScores'].apply(lambda x: x.split(' '))"
   ]
  },
  {
   "cell_type": "code",
   "execution_count": 21,
   "metadata": {},
   "outputs": [
    {
     "data": {
      "text/plain": [
       "<matplotlib.axes._subplots.AxesSubplot at 0x7f440b29d860>"
      ]
     },
     "execution_count": 21,
     "metadata": {},
     "output_type": "execute_result"
    },
    {
     "data": {
      "image/png": "[encoded data removed]",
      "text/plain": [
       "<matplotlib.figure.Figure at 0x7f440b29d048>"
      ]
     },
     "metadata": {},
     "output_type": "display_data"
    }
   ],
   "source": [
    "plt.figure(figsize=(10,10))\n",
    "all_matches['MatchLength'] = all_matches['MoveScores'].apply(len)\n",
    "all_matches['MatchLength'].plot.hist(bins=20)"
   ]
  },
  {
   "cell_type": "code",
   "execution_count": 22,
   "metadata": {},
   "outputs": [
    {
     "data": {
      "text/plain": [
       "count    50000.000000\n",
       "mean        82.529460\n",
       "std         33.977204\n",
       "min          2.000000\n",
       "25%         60.000000\n",
       "50%         79.000000\n",
       "75%        101.000000\n",
       "max        330.000000\n",
       "Name: MatchLength, dtype: float64"
      ]
     },
     "execution_count": 22,
     "metadata": {},
     "output_type": "execute_result"
    }
   ],
   "source": [
    "all_matches['MatchLength'].describe()"
   ]
  },
  {
   "cell_type": "markdown",
   "metadata": {},
   "source": [
    "Most games last 60-100 moves, with some extreme cases.\n",
    "There is no way we can predict the rating of a player with just one or 2 moves,\n",
    "so we can consider too-short games anomalies and handle them accordingly.\n",
    "\n",
    "@todo: Here I choose to remove them completely from the training set.\n",
    "You might try a different strategy to handle short games"
   ]
  },
  {
   "cell_type": "code",
   "execution_count": 23,
   "metadata": {},
   "outputs": [
    {
     "data": {
      "text/plain": [
       "41"
      ]
     },
     "execution_count": 23,
     "metadata": {},
     "output_type": "execute_result"
    }
   ],
   "source": [
    "# All short games (< 8 moves)\n",
    "short_games = all_matches[np.logical_and(all_matches['MatchLength'] < 8, all_matches['WhiteElo'].notnull())]\n",
    "len(short_games)"
   ]
  },
  {
   "cell_type": "code",
   "execution_count": 24,
   "metadata": {
    "collapsed": true
   },
   "outputs": [],
   "source": [
    "# Drop all short games\n",
    "all_matches.drop(short_games.index, inplace=True)"
   ]
  },
  {
   "cell_type": "markdown",
   "metadata": {},
   "source": [
    "Now we need to analyze the flow of the game. Here I choose to simply count the good/bad moves each player made."
   ]
  },
  {
   "cell_type": "code",
   "execution_count": 25,
   "metadata": {
    "collapsed": true
   },
   "outputs": [],
   "source": [
    "def analyze_move_scores(\n",
    "    move_scores,\n",
    "    *,\n",
    "    excellent_thres=300,\n",
    "    good_thres=100,\n",
    "    mistake_thres=-100,\n",
    "    blunder_thres=-300,\n",
    "):\n",
    "    \"\"\"\n",
    "    Count the number of each player's moves in different categories.\n",
    "    \n",
    "    The categories are:\n",
    "    - Excellent: Moves that give major advantage to the player\n",
    "    - Good: Moves that give minor advantage to the player\n",
    "    - Mistake: Moves that give minor advantage to the opponent\n",
    "    - Blunder: Moves that give major advantage to the opponent\n",
    "    \n",
    "    We don't need to consider the moves that don't fall in the above categories,\n",
    "    because it correlates heavily with those.\n",
    "    \n",
    "    @todo:\n",
    "        Currently the threshold values are just some random numbers.\n",
    "        They can be changed to some better values, or use an adaptive strategy\n",
    "        to better classify them.\n",
    "    \"\"\"\n",
    "    white = {'excellent': 0, 'good': 0, 'mistake': 0, 'blunder': 0}\n",
    "    black = {'excellent': 0, 'good': 0, 'mistake': 0, 'blunder': 0}\n",
    "    last_score = 0\n",
    "    \n",
    "    # Coefficient: white = 1, black = -1\n",
    "    coef = 1\n",
    "    for i, score_str in enumerate(move_scores):\n",
    "        current_player = black if i % 2 == 1 else white\n",
    "        try:\n",
    "            score = int(score_str)\n",
    "        except:\n",
    "            score = last_score\n",
    "        change = score - last_score\n",
    "        point = coef * change\n",
    "        if point >= excellent_thres:\n",
    "            current_player['excellent'] += 1\n",
    "        elif point >= good_thres:\n",
    "            current_player['good'] += 1\n",
    "        elif point <= blunder_thres:\n",
    "            current_player['blunder'] += 1\n",
    "        elif point <= mistake_thres:\n",
    "            current_player['mistake'] += 1\n",
    "        coef *= -1\n",
    "        last_score = score\n",
    "    \n",
    "    white_move_count = (len(move_scores) + 1) // 2\n",
    "    black_move_count = len(move_scores) // 2\n",
    "    white_ratio = np.array(list(white.values())) / white_move_count\n",
    "    black_ratio = np.array(list(black.values())) / black_move_count\n",
    "    return np.concatenate([black_ratio, white_ratio])"
   ]
  },
  {
   "cell_type": "code",
   "execution_count": 26,
   "metadata": {},
   "outputs": [
    {
     "data": {
      "text/html": [
       "<div>\n",
       "<style scoped>\n",
       "    .dataframe tbody tr th:only-of-type {\n",
       "        vertical-align: middle;\n",
       "    }\n",
       "\n",
       "    .dataframe tbody tr th {\n",
       "        vertical-align: top;\n",
       "    }\n",
       "\n",
       "    .dataframe thead th {\n",
       "        text-align: right;\n",
       "    }\n",
       "</style>\n",
       "<table border=\"1\" class=\"dataframe\">\n",
       "  <thead>\n",
       "    <tr style=\"text-align: right;\">\n",
       "      <th></th>\n",
       "      <th>BlackElo</th>\n",
       "      <th>WhiteElo</th>\n",
       "      <th>MoveScores</th>\n",
       "      <th>WhitePoint</th>\n",
       "      <th>MatchLength</th>\n",
       "      <th>black_excellent</th>\n",
       "      <th>black_good</th>\n",
       "      <th>black_mistake</th>\n",
       "      <th>black_blunder</th>\n",
       "      <th>white_excellent</th>\n",
       "      <th>white_good</th>\n",
       "      <th>white_mistake</th>\n",
       "      <th>white_blunder</th>\n",
       "    </tr>\n",
       "    <tr>\n",
       "      <th>Event</th>\n",
       "      <th></th>\n",
       "      <th></th>\n",
       "      <th></th>\n",
       "      <th></th>\n",
       "      <th></th>\n",
       "      <th></th>\n",
       "      <th></th>\n",
       "      <th></th>\n",
       "      <th></th>\n",
       "      <th></th>\n",
       "      <th></th>\n",
       "      <th></th>\n",
       "      <th></th>\n",
       "    </tr>\n",
       "  </thead>\n",
       "  <tbody>\n",
       "    <tr>\n",
       "      <th>1</th>\n",
       "      <td>2411.0</td>\n",
       "      <td>2354.0</td>\n",
       "      <td>[18, 17, 12, 8, -5, 12, 3, -2, 22, 21, 20, 13,...</td>\n",
       "      <td>0.5</td>\n",
       "      <td>38</td>\n",
       "      <td>0.000000</td>\n",
       "      <td>0.000000</td>\n",
       "      <td>0.000000</td>\n",
       "      <td>0.000000</td>\n",
       "      <td>0.0</td>\n",
       "      <td>0.0</td>\n",
       "      <td>0.000000</td>\n",
       "      <td>0.00000</td>\n",
       "    </tr>\n",
       "    <tr>\n",
       "      <th>2</th>\n",
       "      <td>2460.0</td>\n",
       "      <td>2523.0</td>\n",
       "      <td>[26, 44, 26, 18, 14, 34, 36, 31, 37, 35, 42, 5...</td>\n",
       "      <td>0.5</td>\n",
       "      <td>13</td>\n",
       "      <td>0.000000</td>\n",
       "      <td>0.000000</td>\n",
       "      <td>0.000000</td>\n",
       "      <td>0.000000</td>\n",
       "      <td>0.0</td>\n",
       "      <td>0.0</td>\n",
       "      <td>0.000000</td>\n",
       "      <td>0.00000</td>\n",
       "    </tr>\n",
       "    <tr>\n",
       "      <th>3</th>\n",
       "      <td>1999.0</td>\n",
       "      <td>1915.0</td>\n",
       "      <td>[26, 51, 68, 57, 65, 77, 48, 93, 61, 63, 63, 5...</td>\n",
       "      <td>0.0</td>\n",
       "      <td>106</td>\n",
       "      <td>0.037736</td>\n",
       "      <td>0.018868</td>\n",
       "      <td>0.018868</td>\n",
       "      <td>0.018868</td>\n",
       "      <td>0.0</td>\n",
       "      <td>0.0</td>\n",
       "      <td>0.018868</td>\n",
       "      <td>0.09434</td>\n",
       "    </tr>\n",
       "    <tr>\n",
       "      <th>4</th>\n",
       "      <td>2191.0</td>\n",
       "      <td>2446.0</td>\n",
       "      <td>[2, 21, 5, 53, 35, 45, 37, 54, 10, 22, 8, 48, ...</td>\n",
       "      <td>1.0</td>\n",
       "      <td>77</td>\n",
       "      <td>0.000000</td>\n",
       "      <td>0.000000</td>\n",
       "      <td>0.000000</td>\n",
       "      <td>0.000000</td>\n",
       "      <td>0.0</td>\n",
       "      <td>0.0</td>\n",
       "      <td>0.000000</td>\n",
       "      <td>0.00000</td>\n",
       "    </tr>\n",
       "    <tr>\n",
       "      <th>5</th>\n",
       "      <td>2075.0</td>\n",
       "      <td>2168.0</td>\n",
       "      <td>[26, 64, 35, 53, 18, 20, 18, 20, 10, 49, 60, 9...</td>\n",
       "      <td>1.0</td>\n",
       "      <td>49</td>\n",
       "      <td>0.000000</td>\n",
       "      <td>0.000000</td>\n",
       "      <td>0.041667</td>\n",
       "      <td>0.041667</td>\n",
       "      <td>0.0</td>\n",
       "      <td>0.0</td>\n",
       "      <td>0.000000</td>\n",
       "      <td>0.00000</td>\n",
       "    </tr>\n",
       "  </tbody>\n",
       "</table>\n",
       "</div>"
      ],
      "text/plain": [
       "       BlackElo  WhiteElo                                         MoveScores  \\\n",
       "Event                                                                          \n",
       "1        2411.0    2354.0  [18, 17, 12, 8, -5, 12, 3, -2, 22, 21, 20, 13,...   \n",
       "2        2460.0    2523.0  [26, 44, 26, 18, 14, 34, 36, 31, 37, 35, 42, 5...   \n",
       "3        1999.0    1915.0  [26, 51, 68, 57, 65, 77, 48, 93, 61, 63, 63, 5...   \n",
       "4        2191.0    2446.0  [2, 21, 5, 53, 35, 45, 37, 54, 10, 22, 8, 48, ...   \n",
       "5        2075.0    2168.0  [26, 64, 35, 53, 18, 20, 18, 20, 10, 49, 60, 9...   \n",
       "\n",
       "       WhitePoint  MatchLength  black_excellent  black_good  black_mistake  \\\n",
       "Event                                                                        \n",
       "1             0.5           38         0.000000    0.000000       0.000000   \n",
       "2             0.5           13         0.000000    0.000000       0.000000   \n",
       "3             0.0          106         0.037736    0.018868       0.018868   \n",
       "4             1.0           77         0.000000    0.000000       0.000000   \n",
       "5             1.0           49         0.000000    0.000000       0.041667   \n",
       "\n",
       "       black_blunder  white_excellent  white_good  white_mistake  \\\n",
       "Event                                                              \n",
       "1           0.000000              0.0         0.0       0.000000   \n",
       "2           0.000000              0.0         0.0       0.000000   \n",
       "3           0.018868              0.0         0.0       0.018868   \n",
       "4           0.000000              0.0         0.0       0.000000   \n",
       "5           0.041667              0.0         0.0       0.000000   \n",
       "\n",
       "       white_blunder  \n",
       "Event                 \n",
       "1            0.00000  \n",
       "2            0.00000  \n",
       "3            0.09434  \n",
       "4            0.00000  \n",
       "5            0.00000  "
      ]
     },
     "execution_count": 26,
     "metadata": {},
     "output_type": "execute_result"
    }
   ],
   "source": [
    "(\n",
    "    all_matches['black_excellent'],\n",
    "    all_matches['black_good'],\n",
    "    all_matches['black_mistake'],\n",
    "    all_matches['black_blunder'],\n",
    "    all_matches['white_excellent'],\n",
    "    all_matches['white_good'],\n",
    "    all_matches['white_mistake'],\n",
    "    all_matches['white_blunder'],\n",
    ") = zip(*all_matches['MoveScores'].apply(analyze_move_scores))\n",
    "\n",
    "all_matches.head()"
   ]
  },
  {
   "cell_type": "code",
   "execution_count": 27,
   "metadata": {},
   "outputs": [
    {
     "data": {
      "text/html": [
       "<div>\n",
       "<style scoped>\n",
       "    .dataframe tbody tr th:only-of-type {\n",
       "        vertical-align: middle;\n",
       "    }\n",
       "\n",
       "    .dataframe tbody tr th {\n",
       "        vertical-align: top;\n",
       "    }\n",
       "\n",
       "    .dataframe thead th {\n",
       "        text-align: right;\n",
       "    }\n",
       "</style>\n",
       "<table border=\"1\" class=\"dataframe\">\n",
       "  <thead>\n",
       "    <tr style=\"text-align: right;\">\n",
       "      <th></th>\n",
       "      <th>BlackElo</th>\n",
       "      <th>WhiteElo</th>\n",
       "      <th>WhitePoint</th>\n",
       "      <th>MatchLength</th>\n",
       "      <th>black_excellent</th>\n",
       "      <th>black_good</th>\n",
       "      <th>black_mistake</th>\n",
       "      <th>black_blunder</th>\n",
       "      <th>white_excellent</th>\n",
       "      <th>white_good</th>\n",
       "      <th>white_mistake</th>\n",
       "      <th>white_blunder</th>\n",
       "    </tr>\n",
       "  </thead>\n",
       "  <tbody>\n",
       "    <tr>\n",
       "      <th>count</th>\n",
       "      <td>24959.000000</td>\n",
       "      <td>24959.000000</td>\n",
       "      <td>49959.000000</td>\n",
       "      <td>49959.000000</td>\n",
       "      <td>49959.000000</td>\n",
       "      <td>49959.000000</td>\n",
       "      <td>49959.000000</td>\n",
       "      <td>49959.000000</td>\n",
       "      <td>49959.000000</td>\n",
       "      <td>49959.000000</td>\n",
       "      <td>49959.000000</td>\n",
       "      <td>49959.000000</td>\n",
       "    </tr>\n",
       "    <tr>\n",
       "      <th>mean</th>\n",
       "      <td>2242.015385</td>\n",
       "      <td>2246.867383</td>\n",
       "      <td>0.541604</td>\n",
       "      <td>82.594848</td>\n",
       "      <td>0.002979</td>\n",
       "      <td>0.002728</td>\n",
       "      <td>0.037071</td>\n",
       "      <td>0.016892</td>\n",
       "      <td>0.003064</td>\n",
       "      <td>0.003241</td>\n",
       "      <td>0.033840</td>\n",
       "      <td>0.014864</td>\n",
       "    </tr>\n",
       "    <tr>\n",
       "      <th>std</th>\n",
       "      <td>271.032216</td>\n",
       "      <td>268.395126</td>\n",
       "      <td>0.412988</td>\n",
       "      <td>33.914334</td>\n",
       "      <td>0.010593</td>\n",
       "      <td>0.009174</td>\n",
       "      <td>0.043118</td>\n",
       "      <td>0.029279</td>\n",
       "      <td>0.010680</td>\n",
       "      <td>0.010218</td>\n",
       "      <td>0.039934</td>\n",
       "      <td>0.026825</td>\n",
       "    </tr>\n",
       "    <tr>\n",
       "      <th>min</th>\n",
       "      <td>1128.000000</td>\n",
       "      <td>1021.000000</td>\n",
       "      <td>0.000000</td>\n",
       "      <td>2.000000</td>\n",
       "      <td>0.000000</td>\n",
       "      <td>0.000000</td>\n",
       "      <td>0.000000</td>\n",
       "      <td>0.000000</td>\n",
       "      <td>0.000000</td>\n",
       "      <td>0.000000</td>\n",
       "      <td>0.000000</td>\n",
       "      <td>0.000000</td>\n",
       "    </tr>\n",
       "    <tr>\n",
       "      <th>25%</th>\n",
       "      <td>2067.000000</td>\n",
       "      <td>2075.000000</td>\n",
       "      <td>0.000000</td>\n",
       "      <td>60.000000</td>\n",
       "      <td>0.000000</td>\n",
       "      <td>0.000000</td>\n",
       "      <td>0.000000</td>\n",
       "      <td>0.000000</td>\n",
       "      <td>0.000000</td>\n",
       "      <td>0.000000</td>\n",
       "      <td>0.000000</td>\n",
       "      <td>0.000000</td>\n",
       "    </tr>\n",
       "    <tr>\n",
       "      <th>50%</th>\n",
       "      <td>2267.000000</td>\n",
       "      <td>2272.000000</td>\n",
       "      <td>0.500000</td>\n",
       "      <td>79.000000</td>\n",
       "      <td>0.000000</td>\n",
       "      <td>0.000000</td>\n",
       "      <td>0.025641</td>\n",
       "      <td>0.000000</td>\n",
       "      <td>0.000000</td>\n",
       "      <td>0.000000</td>\n",
       "      <td>0.023810</td>\n",
       "      <td>0.000000</td>\n",
       "    </tr>\n",
       "    <tr>\n",
       "      <th>75%</th>\n",
       "      <td>2447.000000</td>\n",
       "      <td>2447.000000</td>\n",
       "      <td>1.000000</td>\n",
       "      <td>101.000000</td>\n",
       "      <td>0.000000</td>\n",
       "      <td>0.000000</td>\n",
       "      <td>0.058824</td>\n",
       "      <td>0.027027</td>\n",
       "      <td>0.000000</td>\n",
       "      <td>0.000000</td>\n",
       "      <td>0.054054</td>\n",
       "      <td>0.024390</td>\n",
       "    </tr>\n",
       "    <tr>\n",
       "      <th>max</th>\n",
       "      <td>2881.000000</td>\n",
       "      <td>2864.000000</td>\n",
       "      <td>1.000000</td>\n",
       "      <td>330.000000</td>\n",
       "      <td>0.166667</td>\n",
       "      <td>0.136364</td>\n",
       "      <td>0.666667</td>\n",
       "      <td>0.666667</td>\n",
       "      <td>0.217391</td>\n",
       "      <td>0.153846</td>\n",
       "      <td>0.363636</td>\n",
       "      <td>0.645161</td>\n",
       "    </tr>\n",
       "  </tbody>\n",
       "</table>\n",
       "</div>"
      ],
      "text/plain": [
       "           BlackElo      WhiteElo    WhitePoint   MatchLength  \\\n",
       "count  24959.000000  24959.000000  49959.000000  49959.000000   \n",
       "mean    2242.015385   2246.867383      0.541604     82.594848   \n",
       "std      271.032216    268.395126      0.412988     33.914334   \n",
       "min     1128.000000   1021.000000      0.000000      2.000000   \n",
       "25%     2067.000000   2075.000000      0.000000     60.000000   \n",
       "50%     2267.000000   2272.000000      0.500000     79.000000   \n",
       "75%     2447.000000   2447.000000      1.000000    101.000000   \n",
       "max     2881.000000   2864.000000      1.000000    330.000000   \n",
       "\n",
       "       black_excellent    black_good  black_mistake  black_blunder  \\\n",
       "count     49959.000000  49959.000000   49959.000000   49959.000000   \n",
       "mean          0.002979      0.002728       0.037071       0.016892   \n",
       "std           0.010593      0.009174       0.043118       0.029279   \n",
       "min           0.000000      0.000000       0.000000       0.000000   \n",
       "25%           0.000000      0.000000       0.000000       0.000000   \n",
       "50%           0.000000      0.000000       0.025641       0.000000   \n",
       "75%           0.000000      0.000000       0.058824       0.027027   \n",
       "max           0.166667      0.136364       0.666667       0.666667   \n",
       "\n",
       "       white_excellent    white_good  white_mistake  white_blunder  \n",
       "count     49959.000000  49959.000000   49959.000000   49959.000000  \n",
       "mean          0.003064      0.003241       0.033840       0.014864  \n",
       "std           0.010680      0.010218       0.039934       0.026825  \n",
       "min           0.000000      0.000000       0.000000       0.000000  \n",
       "25%           0.000000      0.000000       0.000000       0.000000  \n",
       "50%           0.000000      0.000000       0.023810       0.000000  \n",
       "75%           0.000000      0.000000       0.054054       0.024390  \n",
       "max           0.217391      0.153846       0.363636       0.645161  "
      ]
     },
     "execution_count": 27,
     "metadata": {},
     "output_type": "execute_result"
    }
   ],
   "source": [
    "all_matches.describe()"
   ]
  },
  {
   "cell_type": "markdown",
   "metadata": {},
   "source": [
    "We have no more use for `\"MoveScores\"`, so let's delete it"
   ]
  },
  {
   "cell_type": "code",
   "execution_count": 28,
   "metadata": {
    "collapsed": true
   },
   "outputs": [],
   "source": [
    "all_matches.drop('MoveScores', axis=1, inplace=True)"
   ]
  },
  {
   "cell_type": "markdown",
   "metadata": {},
   "source": [
    "# Correlation"
   ]
  },
  {
   "cell_type": "code",
   "execution_count": 29,
   "metadata": {},
   "outputs": [
    {
     "name": "stderr",
     "output_type": "stream",
     "text": [
      "/home/nghiatt4/anaconda3/lib/python3.6/site-packages/pandas/core/frame.py:3697: SettingWithCopyWarning: \n",
      "A value is trying to be set on a copy of a slice from a DataFrame\n",
      "\n",
      "See the caveats in the documentation: http://pandas.pydata.org/pandas-docs/stable/indexing.html#indexing-view-versus-copy\n",
      "  errors=errors)\n"
     ]
    }
   ],
   "source": [
    "# Split into train and test set\n",
    "train_data = all_matches[all_matches['WhiteElo'].notnull()]\n",
    "test_data = all_matches[all_matches['WhiteElo'].isnull()]\n",
    "test_data.drop(columns=['BlackElo', 'WhiteElo'], inplace=True)"
   ]
  },
  {
   "cell_type": "code",
   "execution_count": 30,
   "metadata": {},
   "outputs": [
    {
     "data": {
      "text/plain": [
       "<matplotlib.axes._subplots.AxesSubplot at 0x7f440b2336a0>"
      ]
     },
     "execution_count": 30,
     "metadata": {},
     "output_type": "execute_result"
    },
    {
     "data": {
      "image/png": "[encoded data removed]",
      "text/plain": [
       "<matplotlib.figure.Figure at 0x7f440b274710>"
      ]
     },
     "metadata": {},
     "output_type": "display_data"
    }
   ],
   "source": [
    "corrmat = train_data.corr()\n",
    "plt.subplots(figsize=(12,9))\n",
    "sns.heatmap(corrmat, vmax=0.9, square=True)"
   ]
  },
  {
   "cell_type": "markdown",
   "metadata": {},
   "source": [
    "`\"WhitePoint\"` correlates strongly with many other features.\n",
    "We can remove it, but I choose to leave it for now."
   ]
  },
  {
   "cell_type": "markdown",
   "metadata": {},
   "source": [
    "# Building models"
   ]
  },
  {
   "cell_type": "code",
   "execution_count": 31,
   "metadata": {
    "collapsed": true
   },
   "outputs": [],
   "source": [
    "from sklearn.linear_model import LinearRegression\n",
    "from sklearn.model_selection import KFold, cross_val_score"
   ]
  },
  {
   "cell_type": "code",
   "execution_count": 32,
   "metadata": {
    "collapsed": true
   },
   "outputs": [],
   "source": [
    "def train_and_evaluate(model, x_train, y_train, n_folds=2):\n",
    "    kf = KFold(n_folds, shuffle=True).get_n_splits(x_train.values)\n",
    "    score = -cross_val_score(model, x_train.values, y_train.values, scoring='neg_mean_absolute_error', cv=kf)\n",
    "    return score"
   ]
  },
  {
   "cell_type": "code",
   "execution_count": 33,
   "metadata": {
    "collapsed": true
   },
   "outputs": [],
   "source": [
    "x_train = train_data.drop(['BlackElo', 'WhiteElo'], axis=1)\n",
    "y_train = train_data[['WhiteElo', 'BlackElo']]"
   ]
  },
  {
   "cell_type": "code",
   "execution_count": 34,
   "metadata": {},
   "outputs": [
    {
     "data": {
      "text/plain": [
       "array([ 202.73891278,  199.94904956])"
      ]
     },
     "execution_count": 34,
     "metadata": {},
     "output_type": "execute_result"
    }
   ],
   "source": [
    "linear = LinearRegression(n_jobs=4)\n",
    "train_and_evaluate(linear, x_train, y_train)"
   ]
  },
  {
   "cell_type": "code",
   "execution_count": 35,
   "metadata": {},
   "outputs": [
    {
     "data": {
      "text/plain": [
       "LinearRegression(copy_X=True, fit_intercept=True, n_jobs=4, normalize=False)"
      ]
     },
     "execution_count": 35,
     "metadata": {},
     "output_type": "execute_result"
    }
   ],
   "source": [
    "linear.fit(x_train, y_train)"
   ]
  },
  {
   "cell_type": "code",
   "execution_count": 36,
   "metadata": {},
   "outputs": [],
   "source": [
    "predictions = linear.predict(test_data)"
   ]
  },
  {
   "cell_type": "code",
   "execution_count": 37,
   "metadata": {},
   "outputs": [],
   "source": [
    "submission = np.concatenate([test_data.index.values.reshape((len(predictions), 1)), predictions], axis=1)\n",
    "submission = pd.DataFrame(submission, columns=['Event', 'WhiteElo', 'BlackElo'])\n",
    "submission = submission.round().astype(np.int64)"
   ]
  },
  {
   "cell_type": "code",
   "execution_count": 38,
   "metadata": {},
   "outputs": [],
   "source": [
    "submission.to_csv('submission.csv', index=False)"
   ]
  }
 ],
 "metadata": {
  "kernelspec": {
   "display_name": "PyData",
   "language": "python",
   "name": "pydata"
  },
  "language_info": {
   "codemirror_mode": {
    "name": "ipython",
    "version": 3
   },
   "file_extension": ".py",
   "mimetype": "text/x-python",
   "name": "python",
   "nbconvert_exporter": "python",
   "pygments_lexer": "ipython3",
   "version": "3.6.3"
  }
 },
 "nbformat": 4,
 "nbformat_minor": 2
}
